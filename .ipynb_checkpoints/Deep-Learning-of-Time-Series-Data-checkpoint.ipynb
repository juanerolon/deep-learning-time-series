{
 "cells": [
  {
   "cell_type": "markdown",
   "metadata": {
    "deletable": true,
    "editable": true
   },
   "source": [
    "## Deep Learning of Time Series Data\n",
    "### *A compilation of resources aimed at constructing an anomaly detector for alert log data.*"
   ]
  },
  {
   "cell_type": "markdown",
   "metadata": {
    "deletable": true,
    "editable": true
   },
   "source": [
    "#### Paper highlights: \"Deep Learning for Time-Series Analysis\" by John Gamboa\n",
    "https://arxiv.org/abs/1701.01887\n",
    "\n",
    "### Time series\n",
    "\n",
    "We define a time series $X$ as an ordered set of vectors $x^{(n)}$\n",
    "\n",
    "<p style=\"text-align: center;\" markdown=\"1\">$X = \\lbrace x^{(1)}, x^{(2)}, ...x^{(n)} \\rbrace$</p>\n",
    "<p style=\"text-align: center;\" markdown=\"1\">$x^{(t)} \\in R^{m}$</p>\n",
    "<p style=\"text-align: center;\" markdown=\"1\">$x^{(t)} = \\lbrace x_1^{(t)}, x_2^{(t)},..x_m^{(t)}   \\rbrace $</p>\n",
    "\n",
    "$$ X = \\begin{pmatrix}\n",
    "x_1^{(1)} & x_2^{(1)} & x_3^{(1)} & x_m^{(1)} \\\\\\ \n",
    "x_1^{(2)} & x_2^{(2)} & x_3^{(2)} & x_m^{(2)} \\\\\\\n",
    "x_1^{(3)} & x_2^{(3)} & x_3^{(3)} & x_m^{(3)}  \\\\\\ \n",
    "x_1^{(n)} & x_2^{(n)} & x_3^{(n)} & x_m^{(n)} \n",
    "\\end{pmatrix}^T$$\n",
    "\n",
    "Each one of the *m* values correspond to the input variables measured in the time-series."
   ]
  },
  {
   "cell_type": "markdown",
   "metadata": {
    "deletable": true,
    "editable": true
   },
   "source": [
    "### Artifician Neural Networks (ANNs)\n",
    "\n",
    "\n",
    "- An ANN is basically a network of computing units linked by directed connections.\n",
    "\n",
    "\n",
    "- Each **computing unit** performs some calculation and outputs a value that is then spread through all its outgoing connections as input into other units.\n",
    "\n",
    "\n",
    "- Connections normally have **weights** that correspond to how strong two units are linked. \n",
    "\n",
    "\n",
    "- The computation performed by a unit is separated into two stages: the **aggregation** and the **activation** functions.\n",
    "\n",
    "\n",
    "- The *aggregation* function commonly corresponds to calculating the sum of the inputs received by the unit through all its incoming connections\n",
    "\n",
    "#### Activation Functions\n",
    "\n",
    "- The resulting value from aggregation is fed into the activation function. \n",
    "\n",
    "- Different network architectures use different activation functions:\n",
    "\n",
    "     1. Logistic sigmoid\n",
    "     2. Hyperbolic tangent\n",
    "     3. Rectifier function\n",
    "     \n",
    "#### Network Layers\n",
    "\n",
    "- **Input layer. **The input of the network is given in a set of input computing units which compose an input layer. \n",
    "\n",
    "- **Output layer. **The output of the network are the values output by the units composing the output layer"
   ]
  },
  {
   "cell_type": "markdown",
   "metadata": {
    "collapsed": true,
    "deletable": true,
    "editable": true
   },
   "source": [
    "<img src=\"cnn.png\"\n",
    "     alt=\"CNN\"\n",
    "     style=\"float: center; margin-center: 10px; width: 250px;\" />\n",
    "<p><center>Convolutional neural network (CNN) architecture showing the main computational unit layers.</center></p>\n",
    "     "
   ]
  },
  {
   "cell_type": "markdown",
   "metadata": {
    "collapsed": true,
    "deletable": true,
    "editable": true
   },
   "source": [
    "### About the ANN Learning Algorithm\n",
    "\n",
    "- The focus of learning algorithms is frequently on deciding what weights would cause the network to output, given some input, the expected values. \n",
    "\n",
    "\n",
    "- A popular learning algorithm is the *Backpropagation* algorithm, *whereby the gradient of an error function is calculated and the weights are iteratively set so as to minimize the error.*"
   ]
  },
  {
   "cell_type": "code",
   "execution_count": null,
   "metadata": {
    "collapsed": true
   },
   "outputs": [],
   "source": []
  }
 ],
 "metadata": {
  "kernelspec": {
   "display_name": "Python 3",
   "language": "python",
   "name": "python3"
  },
  "language_info": {
   "codemirror_mode": {
    "name": "ipython",
    "version": 3
   },
   "file_extension": ".py",
   "mimetype": "text/x-python",
   "name": "python",
   "nbconvert_exporter": "python",
   "pygments_lexer": "ipython3",
   "version": "3.5.3"
  }
 },
 "nbformat": 4,
 "nbformat_minor": 2
}
